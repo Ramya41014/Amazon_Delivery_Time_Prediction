{
 "cells": [
  {
   "cell_type": "code",
   "execution_count": 1,
   "id": "42cf1838-d331-4b2d-bdc2-eb86fa80044e",
   "metadata": {},
   "outputs": [],
   "source": [
    "import pandas as pd\n",
    "import numpy as np\n",
    "import seaborn as sns\n",
    "import matplotlib as plt\n"
   ]
  },
  {
   "cell_type": "code",
   "execution_count": 2,
   "id": "6006578d-635a-4069-a6a8-7e0e77b8289b",
   "metadata": {},
   "outputs": [
    {
     "data": {
      "text/html": [
       "<div>\n",
       "<style scoped>\n",
       "    .dataframe tbody tr th:only-of-type {\n",
       "        vertical-align: middle;\n",
       "    }\n",
       "\n",
       "    .dataframe tbody tr th {\n",
       "        vertical-align: top;\n",
       "    }\n",
       "\n",
       "    .dataframe thead th {\n",
       "        text-align: right;\n",
       "    }\n",
       "</style>\n",
       "<table border=\"1\" class=\"dataframe\">\n",
       "  <thead>\n",
       "    <tr style=\"text-align: right;\">\n",
       "      <th></th>\n",
       "      <th>Order_ID</th>\n",
       "      <th>Agent_Age</th>\n",
       "      <th>Agent_Rating</th>\n",
       "      <th>Store_Latitude</th>\n",
       "      <th>Store_Longitude</th>\n",
       "      <th>Drop_Latitude</th>\n",
       "      <th>Drop_Longitude</th>\n",
       "      <th>Order_Date</th>\n",
       "      <th>Order_Time</th>\n",
       "      <th>Pickup_Time</th>\n",
       "      <th>Weather</th>\n",
       "      <th>Traffic</th>\n",
       "      <th>Vehicle</th>\n",
       "      <th>Area</th>\n",
       "      <th>Delivery_Time</th>\n",
       "      <th>Category</th>\n",
       "    </tr>\n",
       "  </thead>\n",
       "  <tbody>\n",
       "    <tr>\n",
       "      <th>0</th>\n",
       "      <td>ialx566343618</td>\n",
       "      <td>37</td>\n",
       "      <td>4.9</td>\n",
       "      <td>22.745049</td>\n",
       "      <td>75.892471</td>\n",
       "      <td>22.765049</td>\n",
       "      <td>75.912471</td>\n",
       "      <td>2022-03-19</td>\n",
       "      <td>11:30:00</td>\n",
       "      <td>11:45:00</td>\n",
       "      <td>Sunny</td>\n",
       "      <td>High</td>\n",
       "      <td>motorcycle</td>\n",
       "      <td>Urban</td>\n",
       "      <td>120</td>\n",
       "      <td>Clothing</td>\n",
       "    </tr>\n",
       "    <tr>\n",
       "      <th>1</th>\n",
       "      <td>akqg208421122</td>\n",
       "      <td>34</td>\n",
       "      <td>4.5</td>\n",
       "      <td>12.913041</td>\n",
       "      <td>77.683237</td>\n",
       "      <td>13.043041</td>\n",
       "      <td>77.813237</td>\n",
       "      <td>2022-03-25</td>\n",
       "      <td>19:45:00</td>\n",
       "      <td>19:50:00</td>\n",
       "      <td>Stormy</td>\n",
       "      <td>Jam</td>\n",
       "      <td>scooter</td>\n",
       "      <td>Metropolitian</td>\n",
       "      <td>165</td>\n",
       "      <td>Electronics</td>\n",
       "    </tr>\n",
       "    <tr>\n",
       "      <th>2</th>\n",
       "      <td>njpu434582536</td>\n",
       "      <td>23</td>\n",
       "      <td>4.4</td>\n",
       "      <td>12.914264</td>\n",
       "      <td>77.678400</td>\n",
       "      <td>12.924264</td>\n",
       "      <td>77.688400</td>\n",
       "      <td>2022-03-19</td>\n",
       "      <td>08:30:00</td>\n",
       "      <td>08:45:00</td>\n",
       "      <td>Sandstorms</td>\n",
       "      <td>Low</td>\n",
       "      <td>motorcycle</td>\n",
       "      <td>Urban</td>\n",
       "      <td>130</td>\n",
       "      <td>Sports</td>\n",
       "    </tr>\n",
       "    <tr>\n",
       "      <th>3</th>\n",
       "      <td>rjto796129700</td>\n",
       "      <td>38</td>\n",
       "      <td>4.7</td>\n",
       "      <td>11.003669</td>\n",
       "      <td>76.976494</td>\n",
       "      <td>11.053669</td>\n",
       "      <td>77.026494</td>\n",
       "      <td>2022-04-05</td>\n",
       "      <td>18:00:00</td>\n",
       "      <td>18:10:00</td>\n",
       "      <td>Sunny</td>\n",
       "      <td>Medium</td>\n",
       "      <td>motorcycle</td>\n",
       "      <td>Metropolitian</td>\n",
       "      <td>105</td>\n",
       "      <td>Cosmetics</td>\n",
       "    </tr>\n",
       "    <tr>\n",
       "      <th>4</th>\n",
       "      <td>zguw716275638</td>\n",
       "      <td>32</td>\n",
       "      <td>4.6</td>\n",
       "      <td>12.972793</td>\n",
       "      <td>80.249982</td>\n",
       "      <td>13.012793</td>\n",
       "      <td>80.289982</td>\n",
       "      <td>2022-03-26</td>\n",
       "      <td>13:30:00</td>\n",
       "      <td>13:45:00</td>\n",
       "      <td>Cloudy</td>\n",
       "      <td>High</td>\n",
       "      <td>scooter</td>\n",
       "      <td>Metropolitian</td>\n",
       "      <td>150</td>\n",
       "      <td>Toys</td>\n",
       "    </tr>\n",
       "  </tbody>\n",
       "</table>\n",
       "</div>"
      ],
      "text/plain": [
       "        Order_ID  Agent_Age  Agent_Rating  Store_Latitude  Store_Longitude  \\\n",
       "0  ialx566343618         37           4.9       22.745049        75.892471   \n",
       "1  akqg208421122         34           4.5       12.913041        77.683237   \n",
       "2  njpu434582536         23           4.4       12.914264        77.678400   \n",
       "3  rjto796129700         38           4.7       11.003669        76.976494   \n",
       "4  zguw716275638         32           4.6       12.972793        80.249982   \n",
       "\n",
       "   Drop_Latitude  Drop_Longitude  Order_Date Order_Time Pickup_Time  \\\n",
       "0      22.765049       75.912471  2022-03-19   11:30:00    11:45:00   \n",
       "1      13.043041       77.813237  2022-03-25   19:45:00    19:50:00   \n",
       "2      12.924264       77.688400  2022-03-19   08:30:00    08:45:00   \n",
       "3      11.053669       77.026494  2022-04-05   18:00:00    18:10:00   \n",
       "4      13.012793       80.289982  2022-03-26   13:30:00    13:45:00   \n",
       "\n",
       "      Weather  Traffic      Vehicle            Area  Delivery_Time  \\\n",
       "0       Sunny    High   motorcycle           Urban             120   \n",
       "1      Stormy     Jam      scooter   Metropolitian             165   \n",
       "2  Sandstorms     Low   motorcycle           Urban             130   \n",
       "3       Sunny  Medium   motorcycle   Metropolitian             105   \n",
       "4      Cloudy    High      scooter   Metropolitian             150   \n",
       "\n",
       "      Category  \n",
       "0     Clothing  \n",
       "1  Electronics  \n",
       "2       Sports  \n",
       "3    Cosmetics  \n",
       "4         Toys  "
      ]
     },
     "execution_count": 2,
     "metadata": {},
     "output_type": "execute_result"
    }
   ],
   "source": [
    "data = pd.read_csv(\"C:/Users/Admin/Downloads/amazon_delivery.csv\")\n",
    "\n",
    "data.head(5)  #shows the head of the data"
   ]
  },
  {
   "cell_type": "code",
   "execution_count": 3,
   "id": "8fe6428c-89d9-48f9-ac71-ba243e781fda",
   "metadata": {},
   "outputs": [
    {
     "data": {
      "text/plain": [
       "(43739, 16)"
      ]
     },
     "execution_count": 3,
     "metadata": {},
     "output_type": "execute_result"
    }
   ],
   "source": [
    "data.shape"
   ]
  },
  {
   "cell_type": "code",
   "execution_count": 4,
   "id": "20cb6caf-9480-489c-8fef-eb411d5b1405",
   "metadata": {},
   "outputs": [
    {
     "name": "stdout",
     "output_type": "stream",
     "text": [
      "<class 'pandas.core.frame.DataFrame'>\n",
      "RangeIndex: 43739 entries, 0 to 43738\n",
      "Data columns (total 16 columns):\n",
      " #   Column           Non-Null Count  Dtype  \n",
      "---  ------           --------------  -----  \n",
      " 0   Order_ID         43739 non-null  object \n",
      " 1   Agent_Age        43739 non-null  int64  \n",
      " 2   Agent_Rating     43685 non-null  float64\n",
      " 3   Store_Latitude   43739 non-null  float64\n",
      " 4   Store_Longitude  43739 non-null  float64\n",
      " 5   Drop_Latitude    43739 non-null  float64\n",
      " 6   Drop_Longitude   43739 non-null  float64\n",
      " 7   Order_Date       43739 non-null  object \n",
      " 8   Order_Time       43739 non-null  object \n",
      " 9   Pickup_Time      43739 non-null  object \n",
      " 10  Weather          43648 non-null  object \n",
      " 11  Traffic          43739 non-null  object \n",
      " 12  Vehicle          43739 non-null  object \n",
      " 13  Area             43739 non-null  object \n",
      " 14  Delivery_Time    43739 non-null  int64  \n",
      " 15  Category         43739 non-null  object \n",
      "dtypes: float64(5), int64(2), object(9)\n",
      "memory usage: 5.3+ MB\n"
     ]
    }
   ],
   "source": [
    "data.info()   #infomartion about the data like (data type, missing value presence , counts)"
   ]
  },
  {
   "cell_type": "code",
   "execution_count": 5,
   "id": "d1a40f16-1c9a-4397-a130-37bad05ffb71",
   "metadata": {},
   "outputs": [
    {
     "data": {
      "text/plain": [
       "0"
      ]
     },
     "execution_count": 5,
     "metadata": {},
     "output_type": "execute_result"
    }
   ],
   "source": [
    "data.duplicated().sum()  #To check duplicates presence"
   ]
  },
  {
   "cell_type": "code",
   "execution_count": 6,
   "id": "802e11b5-4b60-4829-8475-f7cea41d4c23",
   "metadata": {},
   "outputs": [
    {
     "data": {
      "text/plain": [
       "Order_ID            0\n",
       "Agent_Age           0\n",
       "Agent_Rating       54\n",
       "Store_Latitude      0\n",
       "Store_Longitude     0\n",
       "Drop_Latitude       0\n",
       "Drop_Longitude      0\n",
       "Order_Date          0\n",
       "Order_Time          0\n",
       "Pickup_Time         0\n",
       "Weather            91\n",
       "Traffic             0\n",
       "Vehicle             0\n",
       "Area                0\n",
       "Delivery_Time       0\n",
       "Category            0\n",
       "dtype: int64"
      ]
     },
     "execution_count": 6,
     "metadata": {},
     "output_type": "execute_result"
    }
   ],
   "source": [
    "data.isnull().sum()   #to check the null value presence"
   ]
  },
  {
   "cell_type": "code",
   "execution_count": 7,
   "id": "0d8ffce3-3597-42b2-bb0d-2c4f9b1c3dbb",
   "metadata": {},
   "outputs": [
    {
     "name": "stdout",
     "output_type": "stream",
     "text": [
      "\n",
      "Unique values in 'Traffic':\n",
      "['High' 'Jam' 'Low' 'Medium' 'NaN']\n",
      "\n",
      "Unique values in 'Category':\n",
      "['Clothing' 'Electronics' 'Sports' 'Cosmetics' 'Toys' 'Snacks' 'Shoes'\n",
      " 'Apparel' 'Jewelry' 'Outdoors' 'Grocery' 'Books' 'Kitchen' 'Home'\n",
      " 'Pet Supplies' 'Skincare']\n",
      "\n",
      "Unique values in 'Weather':\n",
      "['Sunny' 'Stormy' 'Sandstorms' 'Cloudy' 'Fog' 'Windy' 'nan']\n",
      "\n",
      "Unique values in 'Vehicle':\n",
      "['motorcycle' 'scooter' 'van' 'bicycle']\n",
      "\n",
      "Unique values in 'Area':\n",
      "['Urban' 'Metropolitian' 'Semi-Urban' 'Other']\n"
     ]
    }
   ],
   "source": [
    "columns = ['Traffic', 'Category', 'Weather', 'Vehicle', 'Area']\n",
    "for col in columns:\n",
    "    print(f\"\\nUnique values in '{col}':\")\n",
    "    print(data[col].astype(str).str.strip().unique())\n"
   ]
  },
  {
   "cell_type": "code",
   "execution_count": 8,
   "id": "44916a3a-ac17-4191-bed3-af4774b66cc8",
   "metadata": {},
   "outputs": [
    {
     "name": "stderr",
     "output_type": "stream",
     "text": [
      "C:\\Users\\Admin\\AppData\\Local\\Temp\\ipykernel_11256\\4178291434.py:2: FutureWarning: A value is trying to be set on a copy of a DataFrame or Series through chained assignment using an inplace method.\n",
      "The behavior will change in pandas 3.0. This inplace method will never work because the intermediate object on which we are setting values always behaves as a copy.\n",
      "\n",
      "For example, when doing 'df[col].method(value, inplace=True)', try using 'df.method({col: value}, inplace=True)' or df[col] = df[col].method(value) instead, to perform the operation inplace on the original object.\n",
      "\n",
      "\n",
      "  data['Traffic'].replace('NaN ', np.nan, inplace=True)\n"
     ]
    }
   ],
   "source": [
    "#Handling missing and NaN values\n",
    "data['Traffic'].replace('NaN ', np.nan, inplace=True)\n",
    "data.dropna(inplace=True)"
   ]
  },
  {
   "cell_type": "code",
   "execution_count": 9,
   "id": "83367ba2-a7c9-4e78-9b61-fc34b8d55558",
   "metadata": {},
   "outputs": [
    {
     "data": {
      "text/plain": [
       "(43594, 16)"
      ]
     },
     "execution_count": 9,
     "metadata": {},
     "output_type": "execute_result"
    }
   ],
   "source": [
    "data.shape\n"
   ]
  },
  {
   "cell_type": "code",
   "execution_count": 10,
   "id": "f08caa4c-9d0e-4ccf-ae9b-69f3466230aa",
   "metadata": {},
   "outputs": [],
   "source": [
    "from geopy.distance import geodesic"
   ]
  },
  {
   "cell_type": "code",
   "execution_count": 11,
   "id": "1e6cfde8-3258-40d6-b3bb-4074f2a3db3e",
   "metadata": {},
   "outputs": [],
   "source": [
    "# Function to calculate geopy distance\n",
    "def calculate_geopy(row):\n",
    "    lat=(row['Store_Latitude'], row['Store_Longitude']) \n",
    "    lon=(row['Drop_Latitude'], row['Drop_Longitude'])\n",
    "    return geodesic(lat,lon).kilometers\n",
    "\n",
    "# Apply geodesic formula row-wise\n",
    "data['Distance_km'] = data.apply(calculate_geopy, axis=1)\n"
   ]
  },
  {
   "cell_type": "code",
   "execution_count": 12,
   "id": "78b97bcc-6db0-4da4-9183-685ae62023d0",
   "metadata": {},
   "outputs": [],
   "source": [
    "data.drop(columns=['Store_Latitude','Store_Longitude','Drop_Latitude','Drop_Longitude'], inplace=True)"
   ]
  },
  {
   "cell_type": "code",
   "execution_count": 13,
   "id": "4a3d8811-6645-4d75-9bd4-fe8eab97d481",
   "metadata": {},
   "outputs": [
    {
     "name": "stderr",
     "output_type": "stream",
     "text": [
      "C:\\Users\\Admin\\AppData\\Local\\Temp\\ipykernel_11256\\3647066264.py:2: UserWarning: Could not infer format, so each element will be parsed individually, falling back to `dateutil`. To ensure parsing is consistent and as-expected, please specify a format.\n",
      "  data['Order_Time'] = pd.to_datetime(data['Order_Time'], errors='coerce')\n",
      "C:\\Users\\Admin\\AppData\\Local\\Temp\\ipykernel_11256\\3647066264.py:3: UserWarning: Could not infer format, so each element will be parsed individually, falling back to `dateutil`. To ensure parsing is consistent and as-expected, please specify a format.\n",
      "  data['Pickup_Time'] = pd.to_datetime(data['Pickup_Time'], errors='coerce')\n"
     ]
    }
   ],
   "source": [
    "# Convert to datetime\n",
    "data['Order_Time'] = pd.to_datetime(data['Order_Time'], errors='coerce')\n",
    "data['Pickup_Time'] = pd.to_datetime(data['Pickup_Time'], errors='coerce')\n",
    "data['Pickup_Delay'] = (data['Pickup_Time'] - data['Order_Time']).dt.total_seconds() /60  # in minutes\n",
    "data.drop(columns=['Order_Time','Pickup_Time'], inplace=True)\n"
   ]
  },
  {
   "cell_type": "code",
   "execution_count": 14,
   "id": "a9919858-9653-4502-8961-778742aa05ee",
   "metadata": {},
   "outputs": [],
   "source": [
    "# Convert to datetime\n",
    "data['Order_Date'] = pd.to_datetime(data['Order_Date'], errors='coerce')\n",
    "\n",
    "# Extract features\n",
    "data['Order_Month'] = data['Order_Date'].dt.month\n",
    "data['Order_Day'] = data['Order_Date'].dt.day\n",
    "data['Order_Weekday'] = data['Order_Date'].dt.day_name()\n",
    "data.drop(columns=['Order_Date'], inplace=True)"
   ]
  },
  {
   "cell_type": "code",
   "execution_count": 15,
   "id": "83c4df28-a41e-4de8-8668-b9cddeadb3a0",
   "metadata": {},
   "outputs": [],
   "source": [
    "data.drop('Order_ID', axis=1, inplace=True)"
   ]
  },
  {
   "cell_type": "code",
   "execution_count": 16,
   "id": "50fb6beb-4fc7-45e3-ba77-d6154bee6140",
   "metadata": {},
   "outputs": [
    {
     "data": {
      "text/plain": [
       "Agent_Age        0\n",
       "Agent_Rating     0\n",
       "Weather          0\n",
       "Traffic          0\n",
       "Vehicle          0\n",
       "Area             0\n",
       "Delivery_Time    0\n",
       "Category         0\n",
       "Distance_km      0\n",
       "Pickup_Delay     0\n",
       "Order_Month      0\n",
       "Order_Day        0\n",
       "Order_Weekday    0\n",
       "dtype: int64"
      ]
     },
     "execution_count": 16,
     "metadata": {},
     "output_type": "execute_result"
    }
   ],
   "source": [
    "data.isnull().sum()"
   ]
  },
  {
   "cell_type": "code",
   "execution_count": 17,
   "id": "a530e51f-0004-4241-9f6b-20da6e9b4fa9",
   "metadata": {},
   "outputs": [
    {
     "data": {
      "text/plain": [
       "<Axes: >"
      ]
     },
     "execution_count": 17,
     "metadata": {},
     "output_type": "execute_result"
    },
    {
     "data": {
      "image/png": "[encoded data removed]",
      "text/plain": [
       "<Figure size 640x480 with 1 Axes>"
      ]
     },
     "metadata": {},
     "output_type": "display_data"
    }
   ],
   "source": [
    "sns.boxplot(data)  "
   ]
  },
  {
   "cell_type": "code",
   "execution_count": 18,
   "id": "b74f6767-a4a5-4499-932e-aadc21228ead",
   "metadata": {},
   "outputs": [
    {
     "name": "stdout",
     "output_type": "stream",
     "text": [
      "Lower Bound: -8.855969489603641\n",
      "Upper Bound: 27.17094986184372\n",
      "Outlier count: 151\n"
     ]
    }
   ],
   "source": [
    "Q1 = data['Distance_km'].quantile(0.25)\n",
    "Q3 = data['Distance_km'].quantile(0.75)\n",
    "IQR = Q3 - Q1\n",
    "\n",
    "lower_bound = Q1 - 1.5 * IQR\n",
    "upper_bound = Q3 + 1.5 * IQR\n",
    "\n",
    "print(\"Lower Bound:\", lower_bound)\n",
    "print(\"Upper Bound:\", upper_bound)\n",
    "outliers = data[(data['Distance_km'] < lower_bound) | (data['Distance_km'] > upper_bound)]\n",
    "print(\"Outlier count:\", outliers.shape[0])\n",
    "\n"
   ]
  },
  {
   "cell_type": "code",
   "execution_count": 19,
   "id": "60d1fb3c-5737-472c-90d2-9efdd712f420",
   "metadata": {},
   "outputs": [
    {
     "name": "stdout",
     "output_type": "stream",
     "text": [
      "Lower Bound: -15.0\n",
      "Upper Bound: 265.0\n",
      "Outlier count: 79\n"
     ]
    }
   ],
   "source": [
    "Q1 = data['Delivery_Time'].quantile(0.25)\n",
    "Q3 = data['Delivery_Time'].quantile(0.75)\n",
    "IQR = Q3 - Q1\n",
    "\n",
    "lower_bound = Q1 - 1.5 * IQR\n",
    "upper_bound = Q3 + 1.5 * IQR\n",
    "\n",
    "print(\"Lower Bound:\", lower_bound)\n",
    "print(\"Upper Bound:\", upper_bound)\n",
    "outliers = data[(data['Delivery_Time'] < lower_bound) | (data['Delivery_Time'] > upper_bound)]\n",
    "print(\"Outlier count:\", outliers.shape[0])"
   ]
  },
  {
   "cell_type": "code",
   "execution_count": 20,
   "id": "93c9d047-53ee-41af-b70c-3349c139679e",
   "metadata": {},
   "outputs": [],
   "source": [
    "numeric_cols=data.select_dtypes(include='number').columns\n",
    "for col in numeric_cols:  #removing outliers for numeric columns \n",
    "    Q1=data[col].quantile(0.25)\n",
    "    Q3=data[col].quantile(0.75)\n",
    "    IQR=Q3-Q1\n",
    "    lower_bound=Q1-1.5*IQR\n",
    "    upper_bound=Q3+1.5*IQR\n",
    "    data = data[(data[col] >= lower_bound) & (data[col] <= upper_bound)]\n"
   ]
  },
  {
   "cell_type": "code",
   "execution_count": 21,
   "id": "b3e33a07-dcc5-42d8-89cf-8b588faad1f5",
   "metadata": {},
   "outputs": [
    {
     "data": {
      "text/plain": [
       "<Axes: >"
      ]
     },
     "execution_count": 21,
     "metadata": {},
     "output_type": "execute_result"
    },
    {
     "data": {
      "image/png": "[encoded data removed]",
      "text/plain": [
       "<Figure size 640x480 with 1 Axes>"
      ]
     },
     "metadata": {},
     "output_type": "display_data"
    }
   ],
   "source": [
    "sns.boxplot(data)"
   ]
  },
  {
   "cell_type": "code",
   "execution_count": 22,
   "id": "d2800f25-19ef-490f-858f-366b75d588c3",
   "metadata": {},
   "outputs": [],
   "source": [
    "data.to_csv(\"Processed_data\")"
   ]
  },
  {
   "cell_type": "raw",
   "id": "e7f68de8-9cac-49ba-8566-40148822813a",
   "metadata": {},
   "source": [
    "#Feature encoding for categorical variable"
   ]
  },
  {
   "cell_type": "code",
   "execution_count": 23,
   "id": "b038279a-8db9-4c72-a4ce-1baa9e622b59",
   "metadata": {},
   "outputs": [],
   "source": [
    "# Clean column names\n",
    "data.columns = data.columns.str.strip()\n",
    "\n"
   ]
  },
  {
   "cell_type": "code",
   "execution_count": 24,
   "id": "89fb4c92-b135-4ebd-9c0c-4a96f42d361a",
   "metadata": {},
   "outputs": [],
   "source": [
    "from sklearn.preprocessing import LabelEncoder\n",
    "\n",
    "columns = ['Traffic', 'Category', 'Weather', 'Vehicle', 'Area','Order_Weekday']\n",
    "\n",
    "# Use a separate encoder for each column\n",
    "label_encoders = {}\n",
    "\n",
    "for col in columns:\n",
    "    le = LabelEncoder()\n",
    "    data[col] = le.fit_transform(data[col])\n",
    "    label_encoders[col] = le  \n"
   ]
  },
  {
   "cell_type": "code",
   "execution_count": 25,
   "id": "a3602985-8fdf-42e7-b855-ca8ab8bd9104",
   "metadata": {},
   "outputs": [
    {
     "data": {
      "text/html": [
       "<div>\n",
       "<style scoped>\n",
       "    .dataframe tbody tr th:only-of-type {\n",
       "        vertical-align: middle;\n",
       "    }\n",
       "\n",
       "    .dataframe tbody tr th {\n",
       "        vertical-align: top;\n",
       "    }\n",
       "\n",
       "    .dataframe thead th {\n",
       "        text-align: right;\n",
       "    }\n",
       "</style>\n",
       "<table border=\"1\" class=\"dataframe\">\n",
       "  <thead>\n",
       "    <tr style=\"text-align: right;\">\n",
       "      <th></th>\n",
       "      <th>Agent_Age</th>\n",
       "      <th>Agent_Rating</th>\n",
       "      <th>Weather</th>\n",
       "      <th>Traffic</th>\n",
       "      <th>Vehicle</th>\n",
       "      <th>Area</th>\n",
       "      <th>Delivery_Time</th>\n",
       "      <th>Category</th>\n",
       "      <th>Distance_km</th>\n",
       "      <th>Pickup_Delay</th>\n",
       "      <th>Order_Month</th>\n",
       "      <th>Order_Day</th>\n",
       "      <th>Order_Weekday</th>\n",
       "    </tr>\n",
       "  </thead>\n",
       "  <tbody>\n",
       "    <tr>\n",
       "      <th>0</th>\n",
       "      <td>37</td>\n",
       "      <td>4.9</td>\n",
       "      <td>4</td>\n",
       "      <td>0</td>\n",
       "      <td>0</td>\n",
       "      <td>3</td>\n",
       "      <td>120</td>\n",
       "      <td>2</td>\n",
       "      <td>3.020737</td>\n",
       "      <td>15.0</td>\n",
       "      <td>3</td>\n",
       "      <td>19</td>\n",
       "      <td>2</td>\n",
       "    </tr>\n",
       "    <tr>\n",
       "      <th>1</th>\n",
       "      <td>34</td>\n",
       "      <td>4.5</td>\n",
       "      <td>3</td>\n",
       "      <td>1</td>\n",
       "      <td>1</td>\n",
       "      <td>0</td>\n",
       "      <td>165</td>\n",
       "      <td>4</td>\n",
       "      <td>20.143737</td>\n",
       "      <td>5.0</td>\n",
       "      <td>3</td>\n",
       "      <td>25</td>\n",
       "      <td>0</td>\n",
       "    </tr>\n",
       "    <tr>\n",
       "      <th>2</th>\n",
       "      <td>23</td>\n",
       "      <td>4.4</td>\n",
       "      <td>2</td>\n",
       "      <td>2</td>\n",
       "      <td>0</td>\n",
       "      <td>3</td>\n",
       "      <td>130</td>\n",
       "      <td>14</td>\n",
       "      <td>1.549693</td>\n",
       "      <td>15.0</td>\n",
       "      <td>3</td>\n",
       "      <td>19</td>\n",
       "      <td>2</td>\n",
       "    </tr>\n",
       "    <tr>\n",
       "      <th>4</th>\n",
       "      <td>32</td>\n",
       "      <td>4.6</td>\n",
       "      <td>0</td>\n",
       "      <td>0</td>\n",
       "      <td>1</td>\n",
       "      <td>0</td>\n",
       "      <td>150</td>\n",
       "      <td>15</td>\n",
       "      <td>6.197898</td>\n",
       "      <td>15.0</td>\n",
       "      <td>3</td>\n",
       "      <td>26</td>\n",
       "      <td>2</td>\n",
       "    </tr>\n",
       "    <tr>\n",
       "      <th>5</th>\n",
       "      <td>22</td>\n",
       "      <td>4.8</td>\n",
       "      <td>0</td>\n",
       "      <td>1</td>\n",
       "      <td>0</td>\n",
       "      <td>3</td>\n",
       "      <td>130</td>\n",
       "      <td>15</td>\n",
       "      <td>4.602205</td>\n",
       "      <td>10.0</td>\n",
       "      <td>3</td>\n",
       "      <td>11</td>\n",
       "      <td>0</td>\n",
       "    </tr>\n",
       "  </tbody>\n",
       "</table>\n",
       "</div>"
      ],
      "text/plain": [
       "   Agent_Age  Agent_Rating  Weather  Traffic  Vehicle  Area  Delivery_Time  \\\n",
       "0         37           4.9        4        0        0     3            120   \n",
       "1         34           4.5        3        1        1     0            165   \n",
       "2         23           4.4        2        2        0     3            130   \n",
       "4         32           4.6        0        0        1     0            150   \n",
       "5         22           4.8        0        1        0     3            130   \n",
       "\n",
       "   Category  Distance_km  Pickup_Delay  Order_Month  Order_Day  Order_Weekday  \n",
       "0         2     3.020737          15.0            3         19              2  \n",
       "1         4    20.143737           5.0            3         25              0  \n",
       "2        14     1.549693          15.0            3         19              2  \n",
       "4        15     6.197898          15.0            3         26              2  \n",
       "5        15     4.602205          10.0            3         11              0  "
      ]
     },
     "execution_count": 25,
     "metadata": {},
     "output_type": "execute_result"
    }
   ],
   "source": [
    "data.head()"
   ]
  },
  {
   "cell_type": "code",
   "execution_count": 26,
   "id": "3b5d19b8-d0d3-4c63-b418-4d0fa98086ea",
   "metadata": {},
   "outputs": [
    {
     "data": {
      "text/html": [
       "<div>\n",
       "<style scoped>\n",
       "    .dataframe tbody tr th:only-of-type {\n",
       "        vertical-align: middle;\n",
       "    }\n",
       "\n",
       "    .dataframe tbody tr th {\n",
       "        vertical-align: top;\n",
       "    }\n",
       "\n",
       "    .dataframe thead th {\n",
       "        text-align: right;\n",
       "    }\n",
       "</style>\n",
       "<table border=\"1\" class=\"dataframe\">\n",
       "  <thead>\n",
       "    <tr style=\"text-align: right;\">\n",
       "      <th></th>\n",
       "      <th>Agent_Age</th>\n",
       "      <th>Agent_Rating</th>\n",
       "      <th>Weather</th>\n",
       "      <th>Traffic</th>\n",
       "      <th>Vehicle</th>\n",
       "      <th>Area</th>\n",
       "      <th>Delivery_Time</th>\n",
       "      <th>Category</th>\n",
       "      <th>Distance_km</th>\n",
       "      <th>Pickup_Delay</th>\n",
       "      <th>Order_Month</th>\n",
       "      <th>Order_Day</th>\n",
       "      <th>Order_Weekday</th>\n",
       "    </tr>\n",
       "  </thead>\n",
       "  <tbody>\n",
       "    <tr>\n",
       "      <th>count</th>\n",
       "      <td>29038.000000</td>\n",
       "      <td>29038.000000</td>\n",
       "      <td>29038.000000</td>\n",
       "      <td>29038.000000</td>\n",
       "      <td>29038.000000</td>\n",
       "      <td>29038.000000</td>\n",
       "      <td>29038.000000</td>\n",
       "      <td>29038.000000</td>\n",
       "      <td>29038.000000</td>\n",
       "      <td>29038.000000</td>\n",
       "      <td>29038.0</td>\n",
       "      <td>29038.000000</td>\n",
       "      <td>29038.000000</td>\n",
       "    </tr>\n",
       "    <tr>\n",
       "      <th>mean</th>\n",
       "      <td>29.452924</td>\n",
       "      <td>4.665228</td>\n",
       "      <td>2.471968</td>\n",
       "      <td>1.736311</td>\n",
       "      <td>0.495041</td>\n",
       "      <td>0.713617</td>\n",
       "      <td>122.796818</td>\n",
       "      <td>7.485949</td>\n",
       "      <td>9.497310</td>\n",
       "      <td>9.973483</td>\n",
       "      <td>3.0</td>\n",
       "      <td>15.720366</td>\n",
       "      <td>3.133170</td>\n",
       "    </tr>\n",
       "    <tr>\n",
       "      <th>std</th>\n",
       "      <td>5.765884</td>\n",
       "      <td>0.253701</td>\n",
       "      <td>1.710177</td>\n",
       "      <td>0.949058</td>\n",
       "      <td>0.642611</td>\n",
       "      <td>1.254704</td>\n",
       "      <td>50.547955</td>\n",
       "      <td>4.617765</td>\n",
       "      <td>5.556006</td>\n",
       "      <td>4.081131</td>\n",
       "      <td>0.0</td>\n",
       "      <td>9.012027</td>\n",
       "      <td>1.995967</td>\n",
       "    </tr>\n",
       "    <tr>\n",
       "      <th>min</th>\n",
       "      <td>20.000000</td>\n",
       "      <td>3.900000</td>\n",
       "      <td>0.000000</td>\n",
       "      <td>0.000000</td>\n",
       "      <td>0.000000</td>\n",
       "      <td>0.000000</td>\n",
       "      <td>10.000000</td>\n",
       "      <td>0.000000</td>\n",
       "      <td>1.487802</td>\n",
       "      <td>5.000000</td>\n",
       "      <td>3.0</td>\n",
       "      <td>1.000000</td>\n",
       "      <td>0.000000</td>\n",
       "    </tr>\n",
       "    <tr>\n",
       "      <th>25%</th>\n",
       "      <td>24.000000</td>\n",
       "      <td>4.600000</td>\n",
       "      <td>1.000000</td>\n",
       "      <td>1.000000</td>\n",
       "      <td>0.000000</td>\n",
       "      <td>0.000000</td>\n",
       "      <td>85.000000</td>\n",
       "      <td>4.000000</td>\n",
       "      <td>4.647989</td>\n",
       "      <td>5.000000</td>\n",
       "      <td>3.0</td>\n",
       "      <td>8.000000</td>\n",
       "      <td>1.000000</td>\n",
       "    </tr>\n",
       "    <tr>\n",
       "      <th>50%</th>\n",
       "      <td>29.000000</td>\n",
       "      <td>4.700000</td>\n",
       "      <td>2.000000</td>\n",
       "      <td>2.000000</td>\n",
       "      <td>0.000000</td>\n",
       "      <td>0.000000</td>\n",
       "      <td>125.000000</td>\n",
       "      <td>7.000000</td>\n",
       "      <td>9.107798</td>\n",
       "      <td>10.000000</td>\n",
       "      <td>3.0</td>\n",
       "      <td>15.000000</td>\n",
       "      <td>3.000000</td>\n",
       "    </tr>\n",
       "    <tr>\n",
       "      <th>75%</th>\n",
       "      <td>35.000000</td>\n",
       "      <td>4.900000</td>\n",
       "      <td>4.000000</td>\n",
       "      <td>3.000000</td>\n",
       "      <td>1.000000</td>\n",
       "      <td>1.000000</td>\n",
       "      <td>155.000000</td>\n",
       "      <td>12.000000</td>\n",
       "      <td>13.591761</td>\n",
       "      <td>15.000000</td>\n",
       "      <td>3.0</td>\n",
       "      <td>24.000000</td>\n",
       "      <td>5.000000</td>\n",
       "    </tr>\n",
       "    <tr>\n",
       "      <th>max</th>\n",
       "      <td>39.000000</td>\n",
       "      <td>5.000000</td>\n",
       "      <td>5.000000</td>\n",
       "      <td>3.000000</td>\n",
       "      <td>2.000000</td>\n",
       "      <td>3.000000</td>\n",
       "      <td>250.000000</td>\n",
       "      <td>15.000000</td>\n",
       "      <td>20.839227</td>\n",
       "      <td>15.000000</td>\n",
       "      <td>3.0</td>\n",
       "      <td>31.000000</td>\n",
       "      <td>6.000000</td>\n",
       "    </tr>\n",
       "  </tbody>\n",
       "</table>\n",
       "</div>"
      ],
      "text/plain": [
       "          Agent_Age  Agent_Rating       Weather       Traffic       Vehicle  \\\n",
       "count  29038.000000  29038.000000  29038.000000  29038.000000  29038.000000   \n",
       "mean      29.452924      4.665228      2.471968      1.736311      0.495041   \n",
       "std        5.765884      0.253701      1.710177      0.949058      0.642611   \n",
       "min       20.000000      3.900000      0.000000      0.000000      0.000000   \n",
       "25%       24.000000      4.600000      1.000000      1.000000      0.000000   \n",
       "50%       29.000000      4.700000      2.000000      2.000000      0.000000   \n",
       "75%       35.000000      4.900000      4.000000      3.000000      1.000000   \n",
       "max       39.000000      5.000000      5.000000      3.000000      2.000000   \n",
       "\n",
       "               Area  Delivery_Time      Category   Distance_km  Pickup_Delay  \\\n",
       "count  29038.000000   29038.000000  29038.000000  29038.000000  29038.000000   \n",
       "mean       0.713617     122.796818      7.485949      9.497310      9.973483   \n",
       "std        1.254704      50.547955      4.617765      5.556006      4.081131   \n",
       "min        0.000000      10.000000      0.000000      1.487802      5.000000   \n",
       "25%        0.000000      85.000000      4.000000      4.647989      5.000000   \n",
       "50%        0.000000     125.000000      7.000000      9.107798     10.000000   \n",
       "75%        1.000000     155.000000     12.000000     13.591761     15.000000   \n",
       "max        3.000000     250.000000     15.000000     20.839227     15.000000   \n",
       "\n",
       "       Order_Month     Order_Day  Order_Weekday  \n",
       "count      29038.0  29038.000000   29038.000000  \n",
       "mean           3.0     15.720366       3.133170  \n",
       "std            0.0      9.012027       1.995967  \n",
       "min            3.0      1.000000       0.000000  \n",
       "25%            3.0      8.000000       1.000000  \n",
       "50%            3.0     15.000000       3.000000  \n",
       "75%            3.0     24.000000       5.000000  \n",
       "max            3.0     31.000000       6.000000  "
      ]
     },
     "execution_count": 26,
     "metadata": {},
     "output_type": "execute_result"
    }
   ],
   "source": [
    "data.describe()  #statistics of Float values"
   ]
  },
  {
   "cell_type": "code",
   "execution_count": 27,
   "id": "13cc9db4-8766-44cc-9d60-f4c8445808fd",
   "metadata": {},
   "outputs": [
    {
     "data": {
      "text/plain": [
       "(29038, 13)"
      ]
     },
     "execution_count": 27,
     "metadata": {},
     "output_type": "execute_result"
    }
   ],
   "source": [
    "data.shape"
   ]
  },
  {
   "cell_type": "code",
   "execution_count": 28,
   "id": "2dc39f29-cdd7-445b-ac3e-812e57b12b70",
   "metadata": {},
   "outputs": [
    {
     "name": "stdout",
     "output_type": "stream",
     "text": [
      "<class 'pandas.core.frame.DataFrame'>\n",
      "Index: 29038 entries, 0 to 43738\n",
      "Data columns (total 13 columns):\n",
      " #   Column         Non-Null Count  Dtype  \n",
      "---  ------         --------------  -----  \n",
      " 0   Agent_Age      29038 non-null  int64  \n",
      " 1   Agent_Rating   29038 non-null  float64\n",
      " 2   Weather        29038 non-null  int32  \n",
      " 3   Traffic        29038 non-null  int32  \n",
      " 4   Vehicle        29038 non-null  int32  \n",
      " 5   Area           29038 non-null  int32  \n",
      " 6   Delivery_Time  29038 non-null  int64  \n",
      " 7   Category       29038 non-null  int32  \n",
      " 8   Distance_km    29038 non-null  float64\n",
      " 9   Pickup_Delay   29038 non-null  float64\n",
      " 10  Order_Month    29038 non-null  int32  \n",
      " 11  Order_Day      29038 non-null  int32  \n",
      " 12  Order_Weekday  29038 non-null  int32  \n",
      "dtypes: float64(3), int32(8), int64(2)\n",
      "memory usage: 2.2 MB\n"
     ]
    }
   ],
   "source": [
    "data.info()"
   ]
  },
  {
   "cell_type": "code",
   "execution_count": 29,
   "id": "981bd83e-d5d3-4adf-9f74-8cdc626f2577",
   "metadata": {},
   "outputs": [],
   "source": [
    "cleaned_data =data.to_csv('cleaned_data')"
   ]
  },
  {
   "cell_type": "code",
   "execution_count": null,
   "id": "fbd16bb6-9615-459e-a0b8-da9d65f4b1dc",
   "metadata": {},
   "outputs": [],
   "source": []
  }
 ],
 "metadata": {
  "kernelspec": {
   "display_name": "Python 3 (ipykernel)",
   "language": "python",
   "name": "python3"
  },
  "language_info": {
   "codemirror_mode": {
    "name": "ipython",
    "version": 3
   },
   "file_extension": ".py",
   "mimetype": "text/x-python",
   "name": "python",
   "nbconvert_exporter": "python",
   "pygments_lexer": "ipython3",
   "version": "3.12.4"
  }
 },
 "nbformat": 4,
 "nbformat_minor": 5
}
