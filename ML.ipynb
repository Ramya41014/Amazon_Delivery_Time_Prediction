{
 "cells": [
  {
   "cell_type": "markdown",
   "id": "99abeadf-4999-4b21-84ca-21f35cab4f8d",
   "metadata": {},
   "source": [
    "#Import necessary libraries"
   ]
  },
  {
   "cell_type": "code",
   "execution_count": 2,
   "id": "f1770e99-2847-4eb6-8c60-73a8b561440c",
   "metadata": {},
   "outputs": [],
   "source": [
    "import pandas as pd\n",
    "import numpy as np\n",
    "\n",
    "from sklearn.model_selection import train_test_split\n",
    "from sklearn.linear_model import LinearRegression\n",
    "from sklearn.ensemble import RandomForestRegressor, GradientBoostingRegressor\n",
    "from sklearn.metrics import mean_squared_error, mean_absolute_error, r2_score\n",
    "from sklearn.model_selection import GridSearchCV\n",
    "\n",
    "import mlflow\n",
    "import mlflow.sklearn\n",
    "import mlflow.xgboost \n",
    "import xgboost as xgb"
   ]
  },
  {
   "cell_type": "code",
   "execution_count": 3,
   "id": "af127854-d757-4ba9-8469-09944c8edd55",
   "metadata": {},
   "outputs": [],
   "source": [
    "# Load dataset \n",
    "df = pd.read_csv(\"C:/Users/Admin/Guvi Mini Project/Amazon delivery price predection/cleaned_data\")  "
   ]
  },
  {
   "cell_type": "markdown",
   "id": "762a8bcc-05e7-45f1-847a-c3bd455183b2",
   "metadata": {},
   "source": [
    "#Train the dataset"
   ]
  },
  {
   "cell_type": "code",
   "execution_count": 4,
   "id": "f68b9e4e-3b4f-4cb0-9f1d-a068e6067ef2",
   "metadata": {},
   "outputs": [],
   "source": [
    "# Define features and target\n",
    "X = df.drop(columns=[\"Delivery_Time\"])  \n",
    "y = df[\"Delivery_Time\"]"
   ]
  },
  {
   "cell_type": "code",
   "execution_count": 5,
   "id": "a1cac99a-b56a-4ca5-9d03-db3b914cec93",
   "metadata": {},
   "outputs": [],
   "source": [
    "# Split dataset into training and testing sets\n",
    "X_train, X_test, y_train, y_test = train_test_split(X, y, test_size=0.2, random_state=42)"
   ]
  },
  {
   "cell_type": "code",
   "execution_count": 6,
   "id": "b8bf56d1-db95-4b0d-8c7e-42d0acee3361",
   "metadata": {},
   "outputs": [],
   "source": [
    "# Define models\n",
    "models = {\n",
    "    \"Linear Regression\": LinearRegression(),\n",
    "    \"Random Forest\": RandomForestRegressor(),\n",
    "    \"Gradient Boosting\": GradientBoostingRegressor(),\n",
    "    \"XGBoost\": xgb.XGBRegressor(),\n",
    "}\n"
   ]
  },
  {
   "cell_type": "code",
   "execution_count": 7,
   "id": "ff1e71d2-bc70-4037-b7fe-d368dcb7f722",
   "metadata": {},
   "outputs": [],
   "source": [
    "# Define hyperparameter grids\n",
    "param_grids = {\n",
    "    \"Linear Regression\": {},  # No tuning required\n",
    "    \"Random Forest\": {\n",
    "        \"n_estimators\": [50, 100, 200],\n",
    "        \"max_depth\": [None, 10, 20],\n",
    "        \"min_samples_split\": [2, 5, 10]\n",
    "    },\n",
    "    \"Gradient Boosting\": {\n",
    "        \"n_estimators\": [50, 100, 200],\n",
    "        \"learning_rate\": [0.01, 0.1, 0.2],\n",
    "        \"max_depth\": [3, 5, 10]\n",
    "    },\n",
    "    \"XGBoost\": {\n",
    "        \"n_estimators\": [50, 100, 200],\n",
    "        \"learning_rate\": [0.01, 0.1, 0.2],\n",
    "        \"max_depth\": [3, 5, 10]\n",
    "    }\n",
    "}\n"
   ]
  },
  {
   "cell_type": "code",
   "execution_count": 9,
   "id": "4104bdbc-a1cd-4648-a563-d6d34dad1f42",
   "metadata": {},
   "outputs": [
    {
     "name": "stdout",
     "output_type": "stream",
     "text": [
      "Best parameters for Linear Regression: No tuning required\n",
      "Best parameters for Random Forest: {'max_depth': 10, 'min_samples_split': 5, 'n_estimators': 100}\n",
      "Best parameters for Gradient Boosting: {'learning_rate': 0.1, 'max_depth': 5, 'n_estimators': 100}\n",
      "Best parameters for XGBoost: {'learning_rate': 0.1, 'max_depth': 5, 'n_estimators': 100}\n"
     ]
    }
   ],
   "source": [
    "best_params = {}\n",
    "\n",
    "for name, model in models.items():\n",
    "    if param_grids[name]:  # If tuning parameters exist\n",
    "        grid_search = GridSearchCV(model, param_grids[name], scoring=\"neg_mean_squared_error\", cv=3, n_jobs=-1)\n",
    "        grid_search.fit(X_train, y_train)\n",
    "        best_params[name] = grid_search.best_params_\n",
    "    else:\n",
    "        best_params[name] = \"No tuning required\"\n",
    "\n",
    "# Print the best hyperparameters\n",
    "for model_name, params in best_params.items():\n",
    "    print(f\"Best parameters for {model_name}: {params}\")\n"
   ]
  },
  {
   "cell_type": "markdown",
   "id": "05d9cf6a-cafe-4fbf-8a0f-c0fc4663f364",
   "metadata": {},
   "source": [
    "#ML flow"
   ]
  },
  {
   "cell_type": "code",
   "execution_count": 8,
   "id": "6e9c5b52-0f49-4225-9dc9-e35360162ac4",
   "metadata": {},
   "outputs": [
    {
     "name": "stderr",
     "output_type": "stream",
     "text": [
      "2025/05/27 10:15:07 INFO mlflow.tracking.fluent: Experiment with name ' Amazon_Delivery_Time_Prediction' does not exist. Creating a new experiment.\n"
     ]
    },
    {
     "name": "stderr",
     "output_type": "stream",
     "text": [
      "2025/05/27 10:15:08 WARNING mlflow.utils.git_utils: Failed to import Git (the Git executable is probably not on your PATH), so Git SHA is not available. Error: Failed to initialize: Bad git executable.\n",
      "The git executable must be specified in one of the following ways:\n",
      "    - be included in your $PATH\n",
      "    - be set via $GIT_PYTHON_GIT_EXECUTABLE\n",
      "    - explicitly set via git.refresh()\n",
      "\n",
      "All git commands will error until this is rectified.\n",
      "\n",
      "This initial warning can be silenced or aggravated in the future by setting the\n",
      "$GIT_PYTHON_REFRESH environment variable. Use one of the following values:\n",
      "    - quiet|q|silence|s|none|n|0: for no warning or exception\n",
      "    - warn|w|warning|1: for a printed warning\n",
      "    - error|e|raise|r|2: for a raised exception\n",
      "\n",
      "Example:\n",
      "    export GIT_PYTHON_REFRESH=quiet\n",
      "\n",
      "2025/05/27 10:15:42 WARNING mlflow.models.model: Model logged without a signature and input example. Please set `input_example` parameter when logging the model to auto infer the model signature.\n"
     ]
    },
    {
     "name": "stdout",
     "output_type": "stream",
     "text": [
      "Linear Regression: RMSE=42.736, MAE=33.026, R2=0.282\n",
      "🏃 View run Linear Regression at: http://127.0.0.1:5000/#/experiments/667631394996600832/runs/544d3d7e57d94db1b5ba51f549a97eba\n",
      "🧪 View experiment at: http://127.0.0.1:5000/#/experiments/667631394996600832\n"
     ]
    },
    {
     "name": "stderr",
     "output_type": "stream",
     "text": [
      "2025/05/27 10:16:27 WARNING mlflow.models.model: Model logged without a signature and input example. Please set `input_example` parameter when logging the model to auto infer the model signature.\n"
     ]
    },
    {
     "name": "stdout",
     "output_type": "stream",
     "text": [
      "Random Forest: RMSE=23.147, MAE=18.068, R2=0.789\n",
      "🏃 View run Random Forest at: http://127.0.0.1:5000/#/experiments/667631394996600832/runs/2eb3ec7a36074ab99eec3cc9acbd9f01\n",
      "🧪 View experiment at: http://127.0.0.1:5000/#/experiments/667631394996600832\n"
     ]
    },
    {
     "name": "stderr",
     "output_type": "stream",
     "text": [
      "2025/05/27 10:16:58 WARNING mlflow.models.model: Model logged without a signature and input example. Please set `input_example` parameter when logging the model to auto infer the model signature.\n"
     ]
    },
    {
     "name": "stdout",
     "output_type": "stream",
     "text": [
      "Gradient Boosting: RMSE=23.894, MAE=19.028, R2=0.776\n",
      "🏃 View run Gradient Boosting at: http://127.0.0.1:5000/#/experiments/667631394996600832/runs/9bdf943cd9b24987802f16950c4fb4ea\n",
      "🧪 View experiment at: http://127.0.0.1:5000/#/experiments/667631394996600832\n"
     ]
    },
    {
     "name": "stderr",
     "output_type": "stream",
     "text": [
      "c:\\Users\\Admin\\anaconda3\\Lib\\site-packages\\xgboost\\sklearn.py:1028: UserWarning: [10:16:59] WARNING: C:\\actions-runner\\_work\\xgboost\\xgboost\\src\\c_api\\c_api.cc:1427: Saving model in the UBJSON format as default.  You can use file extension: `json`, `ubj` or `deprecated` to choose between formats.\n",
      "  self.get_booster().save_model(fname)\n",
      "2025/05/27 10:17:31 WARNING mlflow.models.model: Model logged without a signature and input example. Please set `input_example` parameter when logging the model to auto infer the model signature.\n"
     ]
    },
    {
     "name": "stdout",
     "output_type": "stream",
     "text": [
      "XGBoost: RMSE=22.725, MAE=17.890, R2=0.797\n",
      "🏃 View run XGBoost at: http://127.0.0.1:5000/#/experiments/667631394996600832/runs/7f1ab886eede446388dd17bea7c6a7b4\n",
      "🧪 View experiment at: http://127.0.0.1:5000/#/experiments/667631394996600832\n",
      "model training and MLflow logging complete.\n"
     ]
    }
   ],
   "source": [
    "# Initialize MLflow experiment\n",
    "mlflow.set_experiment(\" Amazon_Delivery_Time_Prediction\")\n",
    "mlflow.set_tracking_uri('http://127.0.0.1:5000')\n",
    "for name, model in models.items():\n",
    "    with mlflow.start_run(run_name=name):\n",
    "        # Apply best parameters\n",
    "        if name in best_params and isinstance(best_params[name], dict):\n",
    "            model.set_params(**best_params[name])  # Update model with best params\n",
    "        \n",
    "        # Train model\n",
    "        model.fit(X_train, y_train)\n",
    "        \n",
    "        # Make predictions\n",
    "        y_pred = model.predict(X_test)\n",
    "        \n",
    "        # Calculate metrics\n",
    "        rmse = np.sqrt(mean_squared_error(y_test, y_pred))\n",
    "        mae = mean_absolute_error(y_test, y_pred)\n",
    "        r2 = r2_score(y_test, y_pred)\n",
    "        \n",
    "        # Log metrics in MLflow\n",
    "        mlflow.log_param(\"model_type\", name)\n",
    "        mlflow.log_metric(\"RMSE\", rmse)\n",
    "        mlflow.log_metric(\"MAE\", mae)\n",
    "        mlflow.log_metric(\"R-squared\", r2)\n",
    "        \n",
    "        # Log models using MLflow framework\n",
    "        if name == \"XGBoost\":\n",
    "            mlflow.xgboost.log_model(model, name)\n",
    "        else:\n",
    "            mlflow.sklearn.log_model(model, name)\n",
    "        \n",
    "        print(f\"{name}: RMSE={rmse:.3f}, MAE={mae:.3f}, R2={r2:.3f}\")\n",
    "\n",
    "print(\"model training and MLflow logging complete.\")\n"
   ]
  },
  {
   "cell_type": "markdown",
   "id": "23cea121",
   "metadata": {},
   "source": [
    "Model Registration"
   ]
  },
  {
   "cell_type": "code",
   "execution_count": null,
   "id": "69f7420c",
   "metadata": {},
   "outputs": [],
   "source": [
    "'''name=\"XGB_Amazon_Delivery\"\n",
    "run_id=input(\"7f1ab886eede446388dd17bea7c6a7b4\")\n",
    "model_uri=f'runs:/{run_id}/model_name'\n",
    "\n",
    "with mlflow.start_run(run_id=run_id):\n",
    "    mlflow.register_model(model_uri=model_uri, model_name=name)'''"
   ]
  },
  {
   "cell_type": "code",
   "execution_count": 8,
   "id": "789a2fef",
   "metadata": {},
   "outputs": [],
   "source": [
    "import mlflow.pyfunc\n",
    "name=\"XGB_Amazon_Delivery\"\n",
    "model_version=1\n",
    "model=mlflow.pyfunc.load_model(model_uri=f'models:/{name}/{model_version}')\n"
   ]
  },
  {
   "cell_type": "code",
   "execution_count": 9,
   "id": "9e6b16d2",
   "metadata": {},
   "outputs": [
    {
     "data": {
      "text/plain": [
       "array([121.697586, 168.33238 , 119.99006 , ..., 167.6479  , 128.51352 ,\n",
       "       175.3937  ], dtype=float32)"
      ]
     },
     "execution_count": 9,
     "metadata": {},
     "output_type": "execute_result"
    }
   ],
   "source": [
    "y_pred=model.predict(X)\n",
    "y_pred"
   ]
  },
  {
   "cell_type": "markdown",
   "id": "e44f7fe3",
   "metadata": {},
   "source": [
    "Transition the Model"
   ]
  },
  {
   "cell_type": "code",
   "execution_count": 10,
   "id": "6d5e07d0",
   "metadata": {},
   "outputs": [
    {
     "name": "stderr",
     "output_type": "stream",
     "text": [
      "Registered model 'XGB_Amazon_Delivery' already exists. Creating a new version of this model...\n",
      "Copied version '1' of model 'XGB_Amazon_Delivery' to version '2' of model 'XGB_Amazon_Delivery'.\n"
     ]
    },
    {
     "data": {
      "text/plain": [
       "<ModelVersion: aliases=[], creation_timestamp=1748330470215, current_stage='None', description='', last_updated_timestamp=1748330470215, name='XGB_Amazon_Delivery', run_id='7f1ab886eede446388dd17bea7c6a7b4', run_link='', source='models:/XGB_Amazon_Delivery/1', status='READY', status_message=None, tags={}, user_id=None, version=2>"
      ]
     },
     "execution_count": 10,
     "metadata": {},
     "output_type": "execute_result"
    }
   ],
   "source": [
    "current_model_uri=f'models:/{name}@challenger'\n",
    "production_model_name=\"XGB_Amazon_Delivery\"\n",
    "client=mlflow.MlflowClient()\n",
    "client.copy_model_version(src_model_uri=current_model_uri,dst_name=production_model_name)"
   ]
  },
  {
   "cell_type": "code",
   "execution_count": 12,
   "id": "c2bb01df",
   "metadata": {},
   "outputs": [
    {
     "data": {
      "text/plain": [
       "array([121.00742,  75.36616,  92.17846, ...,  63.94145, 195.97154,\n",
       "       186.52649], dtype=float32)"
      ]
     },
     "execution_count": 12,
     "metadata": {},
     "output_type": "execute_result"
    }
   ],
   "source": [
    "model_version=1\n",
    "production_model_uri=f\"models:/{production_model_name}@challenger\"\n",
    "loaded_model=mlflow.pyfunc.load_model(production_model_uri)\n",
    "y_pred=loaded_model.predict(X_test)\n",
    "y_pred"
   ]
  },
  {
   "cell_type": "markdown",
   "id": "b2256c43",
   "metadata": {},
   "source": [
    "Deployment"
   ]
  },
  {
   "cell_type": "code",
   "execution_count": 14,
   "id": "4d3ad741",
   "metadata": {},
   "outputs": [
    {
     "data": {
      "text/html": [
       "<pre style=\"white-space:pre;overflow-x:auto;line-height:normal;font-family:Menlo,'DejaVu Sans Mono',consolas,'Courier New',monospace\">                                       <span style=\"font-weight: bold\">❗❗❗ AUTHORIZATION REQUIRED ❗❗❗</span>                                        \n",
       "</pre>\n"
      ],
      "text/plain": [
       "                                       \u001b[1m❗❗❗ AUTHORIZATION REQUIRED ❗❗❗\u001b[0m                                        \n"
      ]
     },
     "metadata": {},
     "output_type": "display_data"
    },
    {
     "data": {
      "application/vnd.jupyter.widget-view+json": {
       "model_id": "ee3fcd059ea44949807531f765294733",
       "version_major": 2,
       "version_minor": 0
      },
      "text/plain": [
       "Output()"
      ]
     },
     "metadata": {},
     "output_type": "display_data"
    },
    {
     "name": "stdout",
     "output_type": "stream",
     "text": [
      "\n",
      "\n",
      "Open the following link in your browser to authorize the client:\n",
      "https://dagshub.com/login/oauth/authorize?state=6dc5e0da-1204-4a9b-b099-9f21c0f6bd44&client_id=32b60ba385aa7cecf24046d8195a71c07dd345d9657977863b52e7748e0f0f28&middleman_request_id=666b67bd261a89c5870c8c91ecf2ee093768c663dbb32e179898bb4355f21091\n",
      "\n",
      "\n"
     ]
    },
    {
     "name": "stderr",
     "output_type": "stream",
     "text": [
      "INFO:httpx:HTTP Request: POST https://dagshub.com/login/oauth/middleman \"HTTP/1.1 200 OK\"\n"
     ]
    },
    {
     "data": {
      "text/html": [
       "<pre style=\"white-space:pre;overflow-x:auto;line-height:normal;font-family:Menlo,'DejaVu Sans Mono',consolas,'Courier New',monospace\"></pre>\n"
      ],
      "text/plain": []
     },
     "metadata": {},
     "output_type": "display_data"
    },
    {
     "name": "stderr",
     "output_type": "stream",
     "text": [
      "INFO:httpx:HTTP Request: POST https://dagshub.com/login/oauth/access_token \"HTTP/1.1 200 OK\"\n",
      "INFO:httpx:HTTP Request: GET https://dagshub.com/api/v1/user \"HTTP/1.1 200 OK\"\n"
     ]
    },
    {
     "data": {
      "text/html": [
       "<pre style=\"white-space:pre;overflow-x:auto;line-height:normal;font-family:Menlo,'DejaVu Sans Mono',consolas,'Courier New',monospace\">Accessing as Ramya41014\n",
       "</pre>\n"
      ],
      "text/plain": [
       "Accessing as Ramya41014\n"
      ]
     },
     "metadata": {},
     "output_type": "display_data"
    },
    {
     "name": "stderr",
     "output_type": "stream",
     "text": [
      "INFO:dagshub:Accessing as Ramya41014\n",
      "INFO:httpx:HTTP Request: GET https://dagshub.com/api/v1/repos/Ramya41014/my-first-repo \"HTTP/1.1 200 OK\"\n",
      "INFO:httpx:HTTP Request: GET https://dagshub.com/api/v1/user \"HTTP/1.1 200 OK\"\n"
     ]
    },
    {
     "data": {
      "text/html": [
       "<pre style=\"white-space:pre;overflow-x:auto;line-height:normal;font-family:Menlo,'DejaVu Sans Mono',consolas,'Courier New',monospace\">Initialized MLflow to track repo <span style=\"color: #008000; text-decoration-color: #008000\">\"Ramya41014/my-first-repo\"</span>\n",
       "</pre>\n"
      ],
      "text/plain": [
       "Initialized MLflow to track repo \u001b[32m\"Ramya41014/my-first-repo\"\u001b[0m\n"
      ]
     },
     "metadata": {},
     "output_type": "display_data"
    },
    {
     "name": "stderr",
     "output_type": "stream",
     "text": [
      "INFO:dagshub:Initialized MLflow to track repo \"Ramya41014/my-first-repo\"\n"
     ]
    },
    {
     "data": {
      "text/html": [
       "<pre style=\"white-space:pre;overflow-x:auto;line-height:normal;font-family:Menlo,'DejaVu Sans Mono',consolas,'Courier New',monospace\">Repository Ramya41014/my-first-repo initialized!\n",
       "</pre>\n"
      ],
      "text/plain": [
       "Repository Ramya41014/my-first-repo initialized!\n"
      ]
     },
     "metadata": {},
     "output_type": "display_data"
    },
    {
     "name": "stderr",
     "output_type": "stream",
     "text": [
      "INFO:dagshub:Repository Ramya41014/my-first-repo initialized!\n"
     ]
    }
   ],
   "source": [
    "\n",
    "import dagshub\n",
    "dagshub.init(repo_owner='Ramya41014', repo_name='my-first-repo', mlflow=True)"
   ]
  },
  {
   "cell_type": "code",
   "execution_count": null,
   "id": "add1fd70",
   "metadata": {},
   "outputs": [],
   "source": []
  }
 ],
 "metadata": {
  "kernelspec": {
   "display_name": "Python 3 (ipykernel)",
   "language": "python",
   "name": "python3"
  },
  "language_info": {
   "codemirror_mode": {
    "name": "ipython",
    "version": 3
   },
   "file_extension": ".py",
   "mimetype": "text/x-python",
   "name": "python",
   "nbconvert_exporter": "python",
   "pygments_lexer": "ipython3",
   "version": "3.12.4"
  }
 },
 "nbformat": 4,
 "nbformat_minor": 5
}
